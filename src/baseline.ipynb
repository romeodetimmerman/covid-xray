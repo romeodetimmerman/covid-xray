{
 "cells": [
  {
   "cell_type": "code",
   "execution_count": 1,
   "metadata": {},
   "outputs": [],
   "source": [
    "import data_pipeline as pipeline\n",
    "import numpy as np\n",
    "import tensorflow as tf\n",
    "import matplotlib.pyplot as plt\n",
    "from tensorflow.keras.metrics import BinaryAccuracy, Precision, Recall"
   ]
  },
  {
   "cell_type": "code",
   "execution_count": 12,
   "metadata": {},
   "outputs": [],
   "source": [
    "PROCESSED_DIR = \"../data/processed\"\n",
    "IMG_HEIGHT = IMG_WIDTH = 128\n",
    "NUM_CHANNELS = 3\n",
    "NUM_CLASSES = 2\n",
    "EPOCHS = 30\n",
    "BATCH_SIZE = 128"
   ]
  },
  {
   "cell_type": "code",
   "execution_count": 3,
   "metadata": {},
   "outputs": [],
   "source": [
    "SEED = 42\n",
    "np.random.seed(SEED)\n",
    "tf.random.set_seed(SEED)"
   ]
  },
  {
   "cell_type": "code",
   "execution_count": 4,
   "metadata": {},
   "outputs": [],
   "source": [
    "metrics = [BinaryAccuracy(), Precision(), Recall()]"
   ]
  },
  {
   "cell_type": "code",
   "execution_count": 5,
   "metadata": {},
   "outputs": [],
   "source": [
    "def build_model(input_shape, num_classes):\n",
    "    \"\"\"\n",
    "    build keras sequential model\n",
    "\n",
    "    params\n",
    "    ------\n",
    "    input_shape: tuple\n",
    "        shape of input images (height, width, channels)\n",
    "    num_classes: int\n",
    "        number of output classes\n",
    "\n",
    "    returns\n",
    "    -------\n",
    "    model: tf.keras.Model\n",
    "        compiled keras model\n",
    "    \"\"\"\n",
    "    model = tf.keras.Sequential(\n",
    "        [\n",
    "            # convolutional\n",
    "            tf.keras.layers.Conv2D(32, (3, 3), activation=\"relu\", padding=\"same\"),\n",
    "            tf.keras.layers.MaxPooling2D((2, 2)),\n",
    "            tf.keras.layers.Conv2D(64, (3, 3), activation=\"relu\", padding=\"same\"),\n",
    "            tf.keras.layers.MaxPooling2D((2, 2)),\n",
    "            tf.keras.layers.Conv2D(128, (3, 3), activation=\"relu\", padding=\"same\"),\n",
    "            tf.keras.layers.MaxPooling2D((2, 2)),\n",
    "            # fully connected\n",
    "            tf.keras.layers.Flatten(),\n",
    "            tf.keras.layers.Dense(128, activation=\"relu\"),\n",
    "            tf.keras.layers.Dropout(0.5),\n",
    "            tf.keras.layers.Dense(64, activation=\"relu\"),\n",
    "            tf.keras.layers.Dropout(0.3),\n",
    "            tf.keras.layers.Dense(1, activation=\"sigmoid\"),\n",
    "        ]\n",
    "    )\n",
    "    return model"
   ]
  },
  {
   "cell_type": "code",
   "execution_count": 6,
   "metadata": {},
   "outputs": [],
   "source": [
    "def train_model(model, train_data, val_data, epochs=30):\n",
    "    # compile the model\n",
    "    model.compile(\n",
    "        optimizer=\"adam\",\n",
    "        loss=\"binary_crossentropy\",\n",
    "        metrics=metrics,\n",
    "    )\n",
    "    # train the model\n",
    "    history = model.fit(\n",
    "        train_data,\n",
    "        epochs=epochs,\n",
    "        validation_data=val_data,\n",
    "    )\n",
    "    return history"
   ]
  },
  {
   "cell_type": "code",
   "execution_count": null,
   "metadata": {},
   "outputs": [],
   "source": [
    "all_paths = pipeline.get_image_paths(PROCESSED_DIR)\n",
    "train_paths = [path for path in all_paths if \"train\" in path]\n",
    "mean, std = pipeline.calc_mean_std(train_paths)"
   ]
  },
  {
   "cell_type": "code",
   "execution_count": null,
   "metadata": {},
   "outputs": [],
   "source": [
    "train_dir = PROCESSED_DIR + \"/train\"\n",
    "val_dir = PROCESSED_DIR + \"/val\"\n",
    "\n",
    "train_gen, val_gen = pipeline.load_data(train_dir, val_dir, mean, std)"
   ]
  },
  {
   "cell_type": "code",
   "execution_count": null,
   "metadata": {},
   "outputs": [],
   "source": [
    "# build model\n",
    "input_shape = (IMG_HEIGHT, IMG_WIDTH, NUM_CHANNELS)\n",
    "model = build_model(input_shape, NUM_CLASSES)\n",
    "\n",
    "# print model summary\n",
    "print(\"model architecture:\")\n",
    "model.summary()"
   ]
  },
  {
   "cell_type": "code",
   "execution_count": null,
   "metadata": {},
   "outputs": [],
   "source": [
    "# train the model\n",
    "history = train_model(model, train_gen, val_gen, EPOCHS)"
   ]
  },
  {
   "cell_type": "code",
   "execution_count": null,
   "metadata": {},
   "outputs": [],
   "source": [
    "# plot training history\n",
    "acc = history.history[\"binary_accuracy\"]\n",
    "val_acc = history.history[\"val_binary_accuracy\"]\n",
    "loss = history.history[\"loss\"]\n",
    "val_loss = history.history[\"val_loss\"]\n",
    "\n",
    "epochs_range = range(EPOCHS)\n",
    "\n",
    "plt.figure(figsize=(12, 4))\n",
    "plt.subplot(1, 2, 1)\n",
    "plt.plot(epochs_range, acc, label=\"training accuracy\")\n",
    "plt.plot(epochs_range, val_acc, label=\"validation accuracy\")\n",
    "plt.legend(loc=\"lower right\")\n",
    "plt.title(\"training and validation accuracy\")\n",
    "\n",
    "plt.subplot(1, 2, 2)\n",
    "plt.plot(epochs_range, loss, label=\"training loss\")\n",
    "plt.plot(epochs_range, val_loss, label=\"validation loss\")\n",
    "plt.legend(loc=\"upper right\")\n",
    "plt.title(\"training and validation loss\")\n",
    "plt.show()"
   ]
  },
  {
   "cell_type": "code",
   "execution_count": null,
   "metadata": {},
   "outputs": [],
   "source": [
    "# evaluate the model on the validation set after training\n",
    "print(\"\\nevaluating model on validation data after training...\")\n",
    "results = model.evaluate(val_gen, verbose=1)\n",
    "print(f\"final validation loss: {results[0]}\")\n",
    "print(f\"final validation accuracy: {results[1]}\")\n",
    "print(f\"final validation precision: {results[2]}\")\n",
    "print(f\"final validation recall: {results[3]}\")"
   ]
  }
 ],
 "metadata": {
  "kernelspec": {
   "display_name": "ml-2025",
   "language": "python",
   "name": "python3"
  },
  "language_info": {
   "codemirror_mode": {
    "name": "ipython",
    "version": 3
   },
   "file_extension": ".py",
   "mimetype": "text/x-python",
   "name": "python",
   "nbconvert_exporter": "python",
   "pygments_lexer": "ipython3",
   "version": "3.12.9"
  }
 },
 "nbformat": 4,
 "nbformat_minor": 2
}
